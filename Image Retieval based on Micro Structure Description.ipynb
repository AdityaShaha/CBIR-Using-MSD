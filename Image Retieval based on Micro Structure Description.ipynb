{
 "cells": [
  {
   "cell_type": "markdown",
   "metadata": {},
   "source": [
    "# Image Retieval Based on Microstructure Description"
   ]
  },
  {
   "cell_type": "code",
   "execution_count": 101,
   "metadata": {},
   "outputs": [],
   "source": [
    "# importing libraries\n",
    "import math\n",
    "import cv2\n",
    "import numpy as np\n",
    "import matplotlib.pyplot as plt"
   ]
  },
  {
   "cell_type": "code",
   "execution_count": 102,
   "metadata": {},
   "outputs": [
    {
     "data": {
      "image/jpeg": "[encoded data removed]",
      "text/plain": [
       "<IPython.core.display.Image object>"
      ]
     },
     "execution_count": 102,
     "metadata": {},
     "output_type": "execute_result"
    }
   ],
   "source": [
    "from IPython.display import Image\n",
    "img = cv2.imread('215.jpg')\n",
    "width, height, channels = img.shape\n",
    "Image('215.jpg')"
   ]
  },
  {
   "cell_type": "code",
   "execution_count": 103,
   "metadata": {},
   "outputs": [],
   "source": [
    "hsv = cv2.cvtColor(img, cv2.COLOR_BGR2HSV)"
   ]
  },
  {
   "cell_type": "code",
   "execution_count": 104,
   "metadata": {},
   "outputs": [
    {
     "data": {
      "text/plain": [
       "array([[29.8, 29.8, 29.8, ..., 29.8, 29.8, 29.8],\n",
       "       [29.8, 29.8, 29.8, ..., 29.8, 29.8, 29.8],\n",
       "       [29.8, 29.8, 29.8, ..., 29.8, 29.8, 29.8],\n",
       "       ...,\n",
       "       [11.4, 11.4, 11.4, ..., 36. , 36. , 36. ],\n",
       "       [11.4, 11.4, 11.4, ..., 36. , 36. , 36. ],\n",
       "       [11.4, 11.4, 11.4, ..., 36. , 36. , 36. ]])"
      ]
     },
     "execution_count": 104,
     "metadata": {},
     "output_type": "execute_result"
    }
   ],
   "source": [
    "colnum1 = 8   #the quantization number of H \n",
    "colnum2 = 3   #the quantization number of S \n",
    "colnum3 = 3   #the quantization number of V\n",
    "VI = 0\n",
    "SI = 0\n",
    "HI = 0\n",
    "QuantizedImage = np.zeros(width*height).reshape(width,height)\n",
    "for i in range(width):\n",
    "    for j in range (height):\n",
    "        VI = hsv[i, j, 0] * (colnum1 / 360.0)\n",
    "        if (VI >= colnum1 - 1):\n",
    "            VI = colnum1 - 1\n",
    "        SI = hsv[i, j, 1] * (colnum2 / 1.0)\n",
    "        if (SI >= colnum2 - 1):\n",
    "            SI = colnum2 - 1;\n",
    "        HI = hsv[i, j, 2] * (colnum3 / 1.0)\n",
    "        if (HI >= colnum3 - 1):\n",
    "            HI = colnum3 - 1\n",
    "        QuantizedImage[i][j] = (colnum3 * colnum2) * VI + colnum3 * SI + HI\n",
    "QuantizedImage    "
   ]
  },
  {
   "cell_type": "markdown",
   "metadata": {},
   "source": [
    "## Edge orientation detection in HSV color space"
   ]
  },
  {
   "cell_type": "code",
   "execution_count": 105,
   "metadata": {},
   "outputs": [],
   "source": [
    "OrientationImage = np.zeros(width*height).reshape(width,height)\n",
    "gxx=gyy=gxy = 0.0\n",
    "rh=gh=bh = 0.0\n",
    "rv=gv=bv = 0.0\n",
    "theta = 0.0\n",
    "hsvComponent = np.zeros(3*width*height).reshape(width,height,3)\n",
    "num = 6   #the quantization number of edge orientation\n",
    "\n",
    "for i in range(width):\n",
    "    for j in range(height):\n",
    "        hsvComponent[i, j, 0] = hsv[i, j, 1] * math.cos(hsv[i, j, 0])\n",
    "        hsvComponent[i, j, 1] = hsv[i, j, 1] * math.sin(hsv[i, j, 0])\n",
    "        hsvComponent[i, j, 2] = hsv[i, j, 2]\n",
    "for i in range(width-2):\n",
    "    for j in range(height-2):\n",
    "        \n",
    "        rh = (hsvComponent[i - 1, j + 1,0] + 2 * hsvComponent[i, j + 1,0] + hsvComponent[i + 1, j + 1,0]) - (hsvComponent[i - 1, j - 1,0] + 2 * hsvComponent[i, j - 1,0] + hsvComponent[i + 1, j - 1,0]);\n",
    "        gh = (hsvComponent[i - 1, j + 1,1] + 2 * hsvComponent[i, j + 1,1] + hsvComponent[i + 1, j + 1,1]) - (hsvComponent[i - 1, j - 1,1] + 2 * hsvComponent[i, j - 1,1] + hsvComponent[i + 1, j - 1,1]);\n",
    "        bh = (hsvComponent[i - 1, j + 1,2] + 2 * hsvComponent[i, j + 1,2] + hsvComponent[i + 1, j + 1,2]) - (hsvComponent[i - 1, j - 1,2] + 2 * hsvComponent[i, j - 1,2] + hsvComponent[i + 1, j - 1,2]);\n",
    "        \n",
    "        rv = (hsvComponent[i + 1, j - 1,0] + 2 * hsvComponent[i + 1, j,0] + hsvComponent[i + 1, j + 1,0]) - (hsvComponent[i - 1, j - 1,0] + 2 * hsvComponent[i - 1, j,0] + hsvComponent[i - 1, j + 1,0]);\n",
    "        gv = (hsvComponent[i + 1, j - 1,1] + 2 * hsvComponent[i + 1, j,1] + hsvComponent[i + 1, j + 1,1]) - (hsvComponent[i - 1, j - 1,1] + 2 * hsvComponent[i - 1, j,1] + hsvComponent[i - 1, j + 1,1]);\n",
    "        bv = (hsvComponent[i + 1, j - 1,2] + 2 * hsvComponent[i + 1, j,2] + hsvComponent[i + 1, j + 1,2]) - (hsvComponent[i - 1, j - 1,2] + 2 * hsvComponent[i - 1, j,2] + hsvComponent[i - 1, j + 1,2]);\n",
    "        \n",
    "        gxx = math.sqrt(rh * rh + gh * gh + bh * bh)\n",
    "        gyy = math.sqrt(rv * rv + gv * gv + bv * bv)\n",
    "        gxy = rh * rv + gh * gv + bh * bv\n",
    "        \n",
    "        theta = (math.acos(gxy / (gxx * gyy + 0.0001)) * 180.0 / math.pi)\n",
    "        \n",
    "        OrientationImage[i, j] = (int)(round(theta * num / 180.0))\n",
    "\n",
    "        if (OrientationImage[i, j] >= num - 1):\n",
    "            OrientationImage[i, j] = num - 1"
   ]
  },
  {
   "cell_type": "markdown",
   "metadata": {},
   "source": [
    "## Implementing Structure Maps"
   ]
  },
  {
   "cell_type": "code",
   "execution_count": 106,
   "metadata": {},
   "outputs": [],
   "source": [
    "def StructureMaps(OrientationImage,img,wid,hei,Dx,Dy):\n",
    "    Color = np.zeros(width*height).reshape(width,height)\n",
    "    for i in range(width/3):\n",
    "        for j in range(height/3):\n",
    "            WA = np.zeros(9)\n",
    "            m = 3 * i + Dx;\n",
    "            n = 3 * j + Dy;\n",
    "            WA[0] = OrientationImage[m - 1, n - 1];\n",
    "            WA[1] = OrientationImage[m - 1, n];\n",
    "            WA[2] = OrientationImage[m - 1, n + 1];\n",
    "            WA[3] = OrientationImage[m + 1, n - 1];\n",
    "            WA[4] = OrientationImage[m + 1, n];\n",
    "            WA[5] = OrientationImage[m + 1, n + 1];\n",
    "            WA[6] = OrientationImage[m, n - 1];\n",
    "            WA[7] = OrientationImage[m, n + 1];\n",
    "            WA[8] = OrientationImage[m, n];\n",
    "            if (WA[8] == WA[0]):\n",
    "                Color[m - 1, n - 1] = img[m - 1, n - 1]\n",
    "            else:\n",
    "                Color[m - 1, n - 1] = -1\n",
    "        \n",
    "            if (WA[8] == WA[1]):\n",
    "                Color[m - 1, n] = img[m - 1, n]\n",
    "            else:\n",
    "                Color[m - 1, n] = -1\n",
    "        \n",
    "            if (WA[8] == WA[2]):\n",
    "                Color[m - 1, n + 1] = img[m - 1, n + 1]\n",
    "            else:\n",
    "                Color[m - 1, n + 1] = -1\n",
    "        \n",
    "            if (WA[8] == WA[3]):\n",
    "                Color[m + 1, n - 1] = img[m + 1, n - 1]\n",
    "            else:\n",
    "                Color[m + 1, n - 1] = -1\n",
    "            \n",
    "            if (WA[8] == WA[4]):\n",
    "                Color[m + 1, n] = img[m + 1, n]\n",
    "            else:\n",
    "                Color[m + 1, n] = -1\n",
    "            if (WA[8] == WA[5]):\n",
    "                Color[m + 1, n + 1] = img[m + 1, n + 1]\n",
    "            else:\n",
    "                Color[m + 1, n + 1] = -1\n",
    "            if (WA[8] == WA[6]):\n",
    "                Color[m, n - 1] = img[m, n - 1]\n",
    "            else:\n",
    "                Color[m, n - 1] = -1\n",
    "            if (WA[8] == WA[7]):\n",
    "                Color[m, n + 1] = img[m, n + 1]\n",
    "            else:\n",
    "                Color[m, n + 1] = -1\n",
    "            if (WA[8] == WA[8]):\n",
    "                Color[m, n] = img[m, n]\n",
    "    return Color"
   ]
  },
  {
   "cell_type": "markdown",
   "metadata": {},
   "source": [
    "## Micro-structure definition and map extraction"
   ]
  },
  {
   "cell_type": "code",
   "execution_count": 107,
   "metadata": {},
   "outputs": [
    {
     "data": {
      "text/plain": [
       "array([[-1. , -1. , -1. , ..., -1. , -1. ,  0. ],\n",
       "       [-1. , 29.8, -1. , ..., 29.8, -1. ,  0. ],\n",
       "       [-1. , 29.8, 29.8, ..., -1. , -1. ,  0. ],\n",
       "       ...,\n",
       "       [-1. , -1. , -1. , ..., -1. , 36. ,  0. ],\n",
       "       [11.4, 11.4, 11.4, ..., 36. , 36. ,  0. ],\n",
       "       [11.4, 11.4, 11.4, ..., 36. , 36. ,  0. ]])"
      ]
     },
     "execution_count": 107,
     "metadata": {},
     "output_type": "execute_result"
    }
   ],
   "source": [
    "ColorA = StructureMaps(OrientationImage,QuantizedImage,width,height,0,0)\n",
    "ColorB = StructureMaps(OrientationImage,QuantizedImage,width,height,0,1)\n",
    "ColorC = StructureMaps(OrientationImage,QuantizedImage,width,height,1,0)\n",
    "ColorD = StructureMaps(OrientationImage,QuantizedImage,width,height,1,1)\n",
    "ColorD"
   ]
  },
  {
   "cell_type": "markdown",
   "metadata": {},
   "source": [
    "## Micro-structre Detections"
   ]
  },
  {
   "cell_type": "code",
   "execution_count": 108,
   "metadata": {},
   "outputs": [
    {
     "data": {
      "text/plain": [
       "array([[29, 29, 29, ..., 29,  0,  0],\n",
       "       [29, 29, -1, ..., 29,  0,  0],\n",
       "       [29, 29, 29, ..., 29,  0,  0],\n",
       "       ...,\n",
       "       [11, 11, -1, ..., 36, 36, 36],\n",
       "       [11, 11, 11, ..., 36, 36, 36],\n",
       "       [11, 11, 11, ..., 36, 36, 36]])"
      ]
     },
     "execution_count": 108,
     "metadata": {},
     "output_type": "execute_result"
    }
   ],
   "source": [
    "micro = np.zeros(width*height).reshape(width,height)\n",
    "for i in range(width):\n",
    "    for j in range(height):\n",
    "        micro[i][j] = int(max(ColorA[i][j], max(ColorB[i][j], max(ColorC[i][j], ColorD[i][j]))));\n",
    "micro = micro.astype(int)\n",
    "micro"
   ]
  },
  {
   "cell_type": "markdown",
   "metadata": {},
   "source": [
    "## Micro-structure Descriptor"
   ]
  },
  {
   "cell_type": "code",
   "execution_count": 130,
   "metadata": {},
   "outputs": [
    {
     "data": {
      "text/plain": [
       "72"
      ]
     },
     "execution_count": 130,
     "metadata": {},
     "output_type": "execute_result"
    }
   ],
   "source": [
    "CSA = 72\n",
    "hist = np.zeros(CSA)\n",
    "MS = np.zeros(CSA)\n",
    "HA = np.zeros(CSA)\n",
    "for i in range(width-1):\n",
    "    for j in range(height-1):\n",
    "        if(micro[i][j] >= 0):\n",
    "            HA[micro[i][j]]+=1\n",
    "            \n",
    "for i in range(3,3*(width/3)-1):\n",
    "    for j in range(3,3*(height/3)-1):\n",
    "        wa = np.zeros(9)\n",
    "        wa[0] = micro[i - 1][j - 1]\n",
    "        wa[1] = micro[i - 1][j]\n",
    "        wa[2] = micro[i - 1][j + 1]\n",
    "        \n",
    "        wa[3] = micro[i + 1][j - 1]\n",
    "        wa[4] = micro[i + 1][j]\n",
    "        wa[5] = micro[i + 1][j + 1]\n",
    "        \n",
    "        wa[6] = micro[i][j - 1]\n",
    "        wa[7] = micro[i][j + 1]\n",
    "        wa[8] = micro[i][j]\n",
    "        wa = wa.astype(int)\n",
    "        TE1 = 0\n",
    "        for m in range(8):\n",
    "            if ((wa[8] == wa[m]) and (wa[8] >= 0)):\n",
    "                TE1 = TE1+1\n",
    "        if(wa[8]>=0):\n",
    "            MS[wa[8]] +=TE1\n",
    "            \n",
    "for i in range(CSA):\n",
    "    hist[i] = (MS[i] * 1.0) / (8.0 * HA[i] + 0.0001)\n",
    "hist.size"
   ]
  },
  {
   "cell_type": "code",
   "execution_count": 138,
   "metadata": {},
   "outputs": [
    {
     "name": "stdout",
     "output_type": "stream",
     "text": [
      "[0.         0.         0.43765507 0.         0.         0.\n",
      " 0.         0.         0.10294117 0.18788818 0.59721309 0.66896865\n",
      " 0.53707565 0.45848017 0.41602832 0.46822238 0.44610969 0.50946126\n",
      " 0.42606068 0.30165289 0.1781088  0.22321428 0.29347823 0.24999999\n",
      " 0.29047617 0.13970583 0.24999997 0.28395952 0.32522454 0.90119115\n",
      " 0.79153037 0.10144926 0.3804517  0.36923073 0.59514923 0.\n",
      " 0.93151986 0.59999988 0.         0.58887279 0.16666644 0.5298549\n",
      " 0.36063213 0.09999992 0.         0.         0.         0.\n",
      " 0.         0.         0.         0.         0.         0.\n",
      " 0.         0.         0.         0.         0.         0.\n",
      " 0.         0.         0.         0.         0.         0.\n",
      " 0.         0.         0.         0.         0.         0.        ]\n",
      "72\n"
     ]
    },
    {
     "data": {
      "image/png": "[encoded data removed]",
      "text/plain": [
       "<matplotlib.figure.Figure at 0x7fdc6c7e32d0>"
      ]
     },
     "metadata": {},
     "output_type": "display_data"
    }
   ],
   "source": [
    "print hist\n",
    "print len(hist)\n",
    "plt.axis([0, 72, 0, 1])\n",
    "plt.bar(np.arange(72),hist)\n",
    "plt.xlabel('Bin size')\n",
    "plt.ylabel('Frequency')\n",
    "plt.title('Histogram of MSD')\n",
    "plt.grid(True)\n",
    "\n",
    "plt.show()"
   ]
  },
  {
   "cell_type": "code",
   "execution_count": null,
   "metadata": {},
   "outputs": [],
   "source": []
  }
 ],
 "metadata": {
  "kernelspec": {
   "display_name": "Python 2",
   "language": "python",
   "name": "python2"
  },
  "language_info": {
   "codemirror_mode": {
    "name": "ipython",
    "version": 2
   },
   "file_extension": ".py",
   "mimetype": "text/x-python",
   "name": "python",
   "nbconvert_exporter": "python",
   "pygments_lexer": "ipython2",
   "version": "2.7.12"
  }
 },
 "nbformat": 4,
 "nbformat_minor": 2
}
